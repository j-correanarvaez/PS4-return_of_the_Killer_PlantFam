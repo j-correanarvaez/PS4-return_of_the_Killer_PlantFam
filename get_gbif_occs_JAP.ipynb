{
 "cells": [
  {
   "cell_type": "code",
   "execution_count": 62,
   "metadata": {},
   "outputs": [
    {
     "name": "stdin",
     "output_type": "stream",
     "text": [
      "Enter the genus:  lygodium\n",
      "Enter the specific epithet:  microphyllum\n"
     ]
    },
    {
     "name": "stdout",
     "output_type": "stream",
     "text": [
      "Retrieving http://api.gbif.org/v1/species/match?name=lygodium%20microphyllum\n",
      "Retrieving http://api.gbif.org/v1/occurrence/search?speciesKey=2650435\n",
      "['Florida' 'Queensland']\n"
     ]
    }
   ],
   "source": [
    "## Problem Set 4\n",
    "## Jessie Pelosi \n",
    "## Get unique states or provinces where a species has been recorded and logged on GBIF.org using api \n",
    "## Taxon of interest (and tested on)- Vittaria appalachiana \n",
    "\n",
    "import urllib.request, urllib.parse, urllib.error\n",
    "import json\n",
    "import re\n",
    "import numpy as np\n",
    "\n",
    "## Get occurrence records of a species using gbif.org  \n",
    "\n",
    "serviceurl = 'http://api.gbif.org/v1/'\n",
    "\n",
    "genus_name = input('Enter the genus: ') #get user input for genus\n",
    "specific_epi = input('Enter the specific epithet: ') #get user input for specific epithet\n",
    "    # if len(species_name) < 1: break\n",
    "\n",
    "url = url = serviceurl + \"species/match?name=\" + genus_name + \"%20\" + specific_epi \n",
    "\n",
    "print('Retrieving', url)\n",
    "uh = urllib.request.urlopen(url)\n",
    "data = uh.read().decode()\n",
    "    #print('Retrieved', len(data), 'characters') ##debugging\n",
    "sp_key = re.search(\"speciesKey\\\"\\:([0-9]*)\", data).group(1) #get species key \n",
    "    #print(sp_key)  ##debugging \n",
    "    \n",
    "occ_url = serviceurl + 'occurrence/search?speciesKey=' + sp_key # use species key to get occurrence records \n",
    "    \n",
    "print('Retrieving', occ_url)\n",
    "occ_uh = urllib.request.urlopen(occ_url)\n",
    "occ_data = occ_uh.read().decode()\n",
    "    #print(occ_data)\n",
    "occs = occ_data.split('{\"key\"')\n",
    "states = []\n",
    "for occ in occs:\n",
    "        #print(occ) #debugging \n",
    "    try:\n",
    "        states.append(re.search('stateProvince\\\":\\\"([A-Za-z\\s]*)\\\"', occ).group(1)) #get state or province\n",
    "    except:\n",
    "        continue \n",
    "print(np.unique(states))\n",
    "    \n",
    "    #\"stateProvince\":\"Pennsylvania\"\n",
    "    #http://api.gbif.org/v1/occurrence/search?taxonKey=5383920"
   ]
  },
  {
   "cell_type": "code",
   "execution_count": null,
   "metadata": {},
   "outputs": [],
   "source": []
  }
 ],
 "metadata": {
  "kernelspec": {
   "display_name": "Python 3.8 (full)",
   "language": "python",
   "name": "python3-3.8-ufrc"
  },
  "language_info": {
   "codemirror_mode": {
    "name": "ipython",
    "version": 3
   },
   "file_extension": ".py",
   "mimetype": "text/x-python",
   "name": "python",
   "nbconvert_exporter": "python",
   "pygments_lexer": "ipython3",
   "version": "3.8.5"
  }
 },
 "nbformat": 4,
 "nbformat_minor": 4
}
