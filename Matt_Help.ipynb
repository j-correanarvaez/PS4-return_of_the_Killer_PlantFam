import urllib.request, urllib.parse, urllib.error
import json

serviceurl = 'https://trefle.io/api/v1/species/search'
token = "wedpJpqOoRaU9_Hk-vqMBdqKSi0PmZGkROAw3k4bDf0"
end = "end"
while True:
    genus = input('Enter a genus (type "end" to exit): ')
    if len(genus) < 1: break
    if str(genus) in str(end): 
        print ("Goodbye")
        break
    url=serviceurl+"?"+urllib.parse.urlencode(
        {"q":genus,"token":token})

    request = urllib.request.Request(url) #The assembled request
    response = urllib.request.urlopen(request)
    plant_list = response.read() # The data you need

    try:
        js = json.loads(plant_list)
    except:
        js = None    
    for plantid in js["data"]:
        if plantid["common_name"] == None:
            print(f"{plantid['scientific_name']} has no common name")
        else:
            print (plantid["common_name"])
